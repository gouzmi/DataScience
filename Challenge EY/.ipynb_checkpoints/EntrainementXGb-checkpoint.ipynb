{
 "cells": [
  {
   "cell_type": "code",
   "execution_count": 13,
   "metadata": {
    "_cell_guid": "b1076dfc-b9ad-4769-8c92-a6c4dae69d19",
    "_uuid": "8f2839f25d086af736a60e9eeb907d3b93b6e0e5"
   },
   "outputs": [],
   "source": [
    "import numpy as np\n",
    "import pandas as pd\n",
    "import math\n",
    "import matplotlib.pyplot as plt\n",
    "from xgboost import XGBClassifier\n",
    "from sklearn.model_selection import GridSearchCV\n",
    "from sklearn.model_selection import StratifiedKFold\n",
    "from sklearn.metrics import accuracy_score"
   ]
  },
  {
   "cell_type": "code",
   "execution_count": null,
   "metadata": {
    "_cell_guid": "79c7e3d0-c299-4dcb-8224-4455121ee9b0",
    "_uuid": "d629ff2d2480ee46fbb7e2d37f6b5fab8052498a"
   },
   "outputs": [],
   "source": [
    "train = pd.read_csv('data_train.csv')\n",
    "test = pd.read_csv('data_test.csv')\n",
    "train = train.drop(['Unnamed: 0'],axis=1)\n",
    "test = test.drop(['Unnamed: 0'],axis=1)"
   ]
  },
  {
   "cell_type": "code",
   "execution_count": null,
   "metadata": {},
   "outputs": [],
   "source": [
    "train.vmean = train.vmean.loc[train.vmean<90]\n",
    "train.vmax = train.vmean.loc[train.vmax<90]\n",
    "train.vmin = train.vmean.loc[train.vmin<90]"
   ]
  },
  {
   "cell_type": "code",
   "execution_count": null,
   "metadata": {},
   "outputs": [],
   "source": [
    "test['vmax']=test['vmax'].replace( np.NaN , test['vmax'].mean() )\n",
    "test['vmin']=test['vmin'].replace( np.NaN , test['vmin'].mean() )\n",
    "test['vmean']=test['vmean'].replace( np.NaN , test['vmean'].mean() ) \n",
    "\n",
    "train['vmax']=train['vmax'].replace( np.NaN , train['vmax'].mean() )\n",
    "train['vmin']=train['vmin'].replace( np.NaN , train['vmin'].mean() )\n",
    "train['vmean']=train['vmean'].replace( np.NaN , train['vmean'].mean() )"
   ]
  },
  {
   "cell_type": "code",
   "execution_count": null,
   "metadata": {},
   "outputs": [],
   "source": [
    "train.vmean = np.where((train.time_entry==train.time_exit) | ((train.x_entry==train.x_exit) & (train.y_entry==train.y_exit)) | (train.vmean<0) , 0, train.vmean)\n",
    "train.vmax = np.where((train.time_entry==train.time_exit) | ((train.x_entry==train.x_exit) & (train.y_entry==train.y_exit)) | (train.vmax<0) , 0, train.vmax)\n",
    "train.vmin = np.where((train.time_entry==train.time_exit) | ((train.x_entry==train.x_exit) & (train.y_entry==train.y_exit)) | (train.vmin<0), 0, train.vmin)\n",
    "\n",
    "test.vmean = np.where((test.time_entry==test.time_exit) | ((test.x_entry==test.x_exit) & (test.y_entry==test.y_exit)) | (test.vmean<0) , 0, test.vmean)\n",
    "test.vmax = np.where((test.time_entry==test.time_exit) | ((test.x_entry==test.x_exit) & (test.y_entry==test.y_exit)) | (test.vmax<0) , 0, test.vmax)\n",
    "test.vmin = np.where((test.time_entry==test.time_exit) | ((test.x_entry==test.x_exit) & (test.y_entry==test.y_exit)) | (test.vmin<0), 0, test.vmin)"
   ]
  },
  {
   "cell_type": "code",
   "execution_count": null,
   "metadata": {},
   "outputs": [],
   "source": [
    "def convertisseurSeconde(time):\n",
    "    sec = 3600*int(time[0:2]) + 60*int(time[3:5]) + int(time[6:8])                                                                                                                                  \n",
    "    return (sec)\n",
    "\n",
    "convertvec = np.vectorize(convertisseurSeconde)"
   ]
  },
  {
   "cell_type": "code",
   "execution_count": null,
   "metadata": {},
   "outputs": [],
   "source": [
    "train.time_entry = convertvec(train.time_entry)\n",
    "train.time_exit = convertvec(train.time_exit)\n",
    "\n",
    "test.time_entry = convertvec(test.time_entry)\n",
    "test.time_exit = convertvec(test.time_exit)"
   ]
  },
  {
   "cell_type": "code",
   "execution_count": null,
   "metadata": {},
   "outputs": [],
   "source": [
    "train['city_center']=0\n",
    "train['city_center'][(train.x_exit>=3750901.5068) & (train.x_exit<=3770901.5068)&(train.y_exit>=(-19268905.6133)) & (train.y_exit<=(-19208905.6133))]=1"
   ]
  },
  {
   "cell_type": "code",
   "execution_count": null,
   "metadata": {},
   "outputs": [],
   "source": [
    "training = train.drop(['hash','trajectory_id','x_exit','y_exit'],axis=1)\n",
    "#model = XGBClassifier()\n",
    "y_train = training.city_center\n",
    "x_train = training.drop(['city_center'],axis=1)\n",
    "#model.fit(x_train,y_train)"
   ]
  },
  {
   "cell_type": "code",
   "execution_count": null,
   "metadata": {
    "_kg_hide-output": false
   },
   "outputs": [],
   "source": [
    "X = x_train\n",
    "y = y_train\n",
    "param_grid = {\n",
    "    'num_boost_round': [100],\n",
    "    'eta': [0.1],\n",
    "    'max_depth': [5,6,7],\n",
    "    'min_child_weight': [0.5,1,2]\n",
    "}\n",
    "\n",
    "i=1\n",
    "kf = StratifiedKFold(n_splits=5,random_state=1,shuffle=True)\n",
    "\n",
    "for train_index,test_index in kf.split(X,y):\n",
    "    print('\\n{} of kfold {}'.format(i,kf.n_splits))\n",
    "    xtr,xvl = X.loc[train_index],X.loc[test_index]\n",
    "    ytr,yvl = y[train_index],y[test_index]\n",
    "    model = GridSearchCV(XGBClassifier(), param_grid, cv=5, scoring= 'f1',iid=True)\n",
    "    print ('---')\n",
    "    model.fit(xtr, ytr)\n",
    "    print (model.best_params_)\n",
    "    pred=model.predict(xvl)\n",
    "    print('accuracy_score',accuracy_score(yvl,pred))\n",
    "    i+=1"
   ]
  },
  {
   "cell_type": "code",
   "execution_count": null,
   "metadata": {},
   "outputs": [],
   "source": [
    "#xgb.plot_importance(model, max_num_features = 15)\n",
    "#feat_importancesXGB = pd.Series(model.feature_importances_)\n",
    "#feat_importancesXGB.nlargest(10).plot(kind='barh')"
   ]
  },
  {
   "cell_type": "code",
   "execution_count": null,
   "metadata": {},
   "outputs": [],
   "source": [
    "x_test = test.loc[test['x_exit'].isnull()]\n",
    "trajectory_id = x_test.trajectory_id\n",
    "x_test = x_test.drop(['hash','trajectory_id','x_exit', 'y_exit'],axis=1)\n",
    "prediction = model.predict(x_test)\n",
    "\n",
    "trajectory_id = trajectory_id.values\n",
    "sub = pd.DataFrame()\n",
    "sub['id']=trajectory_id\n",
    "sub['target']=prediction\n",
    "sub.to_csv(\"XGBTresEntraine.csv\",index =  False)"
   ]
  },
  {
   "cell_type": "code",
   "execution_count": null,
   "metadata": {},
   "outputs": [],
   "source": [
    "model.best_params_"
   ]
  },
  {
   "cell_type": "code",
   "execution_count": null,
   "metadata": {},
   "outputs": [],
   "source": []
  }
 ],
 "metadata": {
  "kernelspec": {
   "display_name": "Python 3",
   "language": "python",
   "name": "python3"
  },
  "language_info": {
   "codemirror_mode": {
    "name": "ipython",
    "version": 3
   },
   "file_extension": ".py",
   "mimetype": "text/x-python",
   "name": "python",
   "nbconvert_exporter": "python",
   "pygments_lexer": "ipython3",
   "version": "3.6.6"
  }
 },
 "nbformat": 4,
 "nbformat_minor": 1
}
