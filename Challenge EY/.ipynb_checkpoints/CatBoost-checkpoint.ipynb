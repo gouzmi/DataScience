{
 "cells": [
  {
   "cell_type": "code",
   "execution_count": 1,
   "metadata": {},
   "outputs": [],
   "source": [
    "import pandas as pd\n",
    "import numpy as np\n",
    "import math\n",
    "import matplotlib.pyplot as plt\n",
    "import pickle\n",
    "import datetime\n",
    "import warnings\n",
    "import time\n",
    "from sklearn.model_selection import cross_val_score\n",
    "from catboost import Pool\n",
    "warnings.filterwarnings('ignore')\n",
    "\n",
    "from lightgbm import LGBMClassifier\n",
    "from xgboost import XGBClassifier\n",
    "from catboost import CatBoostClassifier\n",
    "from sklearn.model_selection import GridSearchCV\n",
    "from sklearn.model_selection import StratifiedKFold\n",
    "from sklearn.metrics import accuracy_score\n",
    "from sklearn.model_selection import train_test_split\n",
    "from sklearn.metrics import f1_score\n",
    "from sklearn.model_selection import train_test_split\n",
    "\n",
    "X =pd.read_csv('X.csv')\n",
    "X_test = pd.read_csv('X_test.csv')\n",
    "Y = pd.read_csv('Y.csv')"
   ]
  },
  {
   "cell_type": "code",
   "execution_count": 209,
   "metadata": {},
   "outputs": [],
   "source": [
    "X_train, X_test, y_train, y_test = train_test_split(X, Y, test_size=0.25, random_state=1)\n",
    "\n",
    "# train_dataset = Pool(data=X_train,\n",
    "#                      label=y_train)\n",
    "\n",
    "# eval_dataset = Pool(data=X_test,\n",
    "#                     label=y_test)\n",
    "\n",
    "# LGBM = pickle.load(open('LGBMTunedV12', 'rb'))\n",
    "# XGB = pickle.load(open('XGB_tuned_02.pickle', 'rb'))\n",
    "# CatBoost = CatBoostClassifier(n_estimators=1500,task_type = \"GPU\",eval_metric='F1')\n",
    "# LGBM.fit(X_train,y_train)\n",
    "# XGB.fit(X_train,y_train)\n",
    "# CatBoost.fit(train_dataset,use_best_model=True,eval_set=eval_dataset)\n",
    "\n",
    "# print('début des pred')\n",
    "# predLGB = LGBM.predict_proba(X_test)\n",
    "# predXGB = XGB.predict_proba(X_test)\n",
    "# predCAT = CatBoost.predict_proba(X_test)\n",
    "#print('f1_score',f1_score(y_test.values.astype(int),pred.astype(int)))"
   ]
  },
  {
   "cell_type": "code",
   "execution_count": 111,
   "metadata": {},
   "outputs": [],
   "source": [
    "predLGB = pd.DataFrame(predLGB[:,1])\n",
    "predXGB = pd.DataFrame(predXGB[:,1])\n",
    "predCAT = pd.DataFrame(predCAT[:,1])"
   ]
  },
  {
   "cell_type": "code",
   "execution_count": 113,
   "metadata": {},
   "outputs": [],
   "source": [
    "predLGB = predLGB.rename( columns={0: \"LGB\"})\n",
    "predXGB = predXGB.rename( columns={0: \"XGB\"})\n",
    "predCAT = predCAT.rename( columns={0: \"CAT\"})"
   ]
  },
  {
   "cell_type": "code",
   "execution_count": 114,
   "metadata": {},
   "outputs": [],
   "source": [
    "ensemble_pred = pd.concat([predLGB,predXGB,predCAT],axis=1)\n",
    "ensemble_pred['mean'] = ensemble_pred.mean(axis='columns',numeric_only=True)"
   ]
  },
  {
   "cell_type": "code",
   "execution_count": 253,
   "metadata": {},
   "outputs": [],
   "source": [
    "exit_coor =pd.read_csv('exit_coor.csv')"
   ]
  },
  {
   "cell_type": "code",
   "execution_count": 76,
   "metadata": {},
   "outputs": [],
   "source": [
    "y_test = y_test.rename(columns={'0': \"pred_true\"})"
   ]
  },
  {
   "cell_type": "code",
   "execution_count": 222,
   "metadata": {},
   "outputs": [],
   "source": [
    "y_pred = np.where(ensemble_pred['XGB'] > 0.5, 1,0)"
   ]
  },
  {
   "cell_type": "code",
   "execution_count": 223,
   "metadata": {},
   "outputs": [
    {
     "name": "stdout",
     "output_type": "stream",
     "text": [
      "f1_score 0.8842443729903536\n"
     ]
    }
   ],
   "source": [
    "print('f1_score',f1_score(y_test.values.astype(int),y_pred.astype(int)))"
   ]
  },
  {
   "cell_type": "code",
   "execution_count": 131,
   "metadata": {},
   "outputs": [],
   "source": [
    "#f1_score 0.8869385647909138 all\n",
    "#f1_score 0.8842443729903536 XGB\n",
    "#f1_score 0.8876938039933634 LGB\n",
    "#f1_score 0.8879339979374354 CAT"
   ]
  },
  {
   "cell_type": "code",
   "execution_count": 215,
   "metadata": {},
   "outputs": [],
   "source": [
    "#X.iloc[76,:]"
   ]
  },
  {
   "cell_type": "code",
   "execution_count": 217,
   "metadata": {},
   "outputs": [],
   "source": [
    "ensemble_pred.index = y_test.index"
   ]
  },
  {
   "cell_type": "code",
   "execution_count": 224,
   "metadata": {},
   "outputs": [],
   "source": [
    "preds = pd.concat([y_test,ensemble_pred],axis=1)"
   ]
  },
  {
   "cell_type": "code",
   "execution_count": 232,
   "metadata": {},
   "outputs": [],
   "source": [
    "preds = preds.sort_index()\n",
    "X_test = X_test.sort_index()"
   ]
  },
  {
   "cell_type": "code",
   "execution_count": 236,
   "metadata": {},
   "outputs": [],
   "source": [
    "preds = preds.rename(columns={'0': \"pred_true\"})\n",
    "#ligne 24"
   ]
  },
  {
   "cell_type": "code",
   "execution_count": 254,
   "metadata": {},
   "outputs": [],
   "source": [
    "exit_coor = exit_coor.iloc[X_test.index]"
   ]
  },
  {
   "cell_type": "code",
   "execution_count": 236,
   "metadata": {},
   "outputs": [],
   "source": [
    "# X_test.to_csv(\"pres_x_test.csv\",index=False)\n",
    "# preds.to_csv(\"preds.csv\",index=False)\n",
    "# exit_coor.to_csv(\"coor.csv\",index=False)\n",
    "X_test = pd.read_csv('pres_x_test.csv')\n",
    "preds = pd.read_csv('preds.csv')\n",
    "exit_coor = pd.read_csv('coor.csv')\n",
    "#hash    0029d917352b7668953513cfc3b4478f_19"
   ]
  },
  {
   "cell_type": "code",
   "execution_count": 237,
   "metadata": {},
   "outputs": [],
   "source": [
    "df = X_test.iloc[24,3:81]"
   ]
  },
  {
   "cell_type": "code",
   "execution_count": 254,
   "metadata": {},
   "outputs": [
    {
     "data": {
      "text/plain": [
       "0.588267353212536"
      ]
     },
     "execution_count": 254,
     "metadata": {},
     "output_type": "execute_result"
    }
   ],
   "source": [
    "X_test.iloc[24,:].vmean0"
   ]
  },
  {
   "cell_type": "code",
   "execution_count": 238,
   "metadata": {},
   "outputs": [],
   "source": [
    "x_entry = pd.DataFrame(df[:20].values)\n",
    "x_entry = x_entry.loc[(x_entry[0]!=0)]\n",
    "#x_entry = x_entry.rename(columns={0: \"x_entry\"})\n",
    "\n",
    "y_entry = pd.DataFrame(df[20:40].values)\n",
    "y_entry = y_entry.loc[(y_entry[0]!=0)]\n",
    "#y_entry = y_entry.rename(columns={0: \"y_entry\"})\n",
    "\n",
    "x_exit = pd.DataFrame(np.concatenate((exit_coor.iloc[24][0], df[40:59].values), axis=None))\n",
    "x_exit = x_exit.loc[(x_exit[0]!=0)]\n",
    "#x_exit = x_exit.rename(columns={0: \"x_exit\"})\n",
    "\n",
    "y_exit = pd.DataFrame(np.concatenate((exit_coor.iloc[24][1], df[59:].values), axis=None))\n",
    "y_exit = y_exit.loc[(y_exit[0]!=0)]\n",
    "#y_exit = y_exit.rename(columns={0: \"y_exit\"})"
   ]
  },
  {
   "cell_type": "code",
   "execution_count": 239,
   "metadata": {},
   "outputs": [
    {
     "name": "stdout",
     "output_type": "stream",
     "text": [
      "3757847.672945589\n",
      "3757847.672945589\n"
     ]
    }
   ],
   "source": [
    "print(x_entry[0][18])\n",
    "print(x_exit[0][18])"
   ]
  },
  {
   "cell_type": "code",
   "execution_count": 242,
   "metadata": {},
   "outputs": [],
   "source": [
    "#sans la dernière\n",
    "x_entry = x_entry.iloc[1:,:]\n",
    "y_entry = y_entry.iloc[1:,:]\n",
    "x_exit = x_exit.iloc[1:,:]\n",
    "y_exit = y_exit.iloc[1:,:]"
   ]
  },
  {
   "cell_type": "code",
   "execution_count": 249,
   "metadata": {},
   "outputs": [
    {
     "name": "stderr",
     "output_type": "stream",
     "text": [
      "C:\\Users\\gouzm\\Anaconda3\\lib\\site-packages\\matplotlib\\figure.py:98: MatplotlibDeprecationWarning: \n",
      "Adding an axes using the same arguments as a previous axes currently reuses the earlier instance.  In a future version, a new instance will always be created and returned.  Meanwhile, this warning can be suppressed, and the future behavior ensured, by passing a unique label to each axes instance.\n",
      "  \"Adding an axes using the same arguments as a previous axes \"\n"
     ]
    },
    {
     "data": {
      "image/png": "[encoded data removed]",
      "text/plain": [
       "<Figure size 864x576 with 1 Axes>"
      ]
     },
     "metadata": {},
     "output_type": "display_data"
    }
   ],
   "source": [
    "# libraries\n",
    "import matplotlib.patches as patches\n",
    "import matplotlib.pyplot as plt\n",
    "import numpy as np\n",
    "import pandas as pd\n",
    "import seaborn as sns\n",
    "\n",
    "# Plot\n",
    "plt.style.use('bmh')\n",
    "fig1 = plt.figure()\n",
    "plt.xlabel('x')\n",
    "plt.ylabel('y')\n",
    "\n",
    "fig1.set_figheight(8)\n",
    "fig1.set_figwidth(12)\n",
    "ax1 = fig1.add_subplot(111)\n",
    "#ax1.plot( 'x_entry', 'y_entry', data=d, linestyle='none', marker='o')\n",
    "ax1.set_xlim([3.767,3.768])\n",
    "ax1.set_ylim([-19.24,-19.23])\n",
    "\n",
    "#ax1.set_xlim([(min([x_entry.min()[0],x_exit.min()[0]]))/1000000-0.01, (max([x_entry.max()[0],x_exit.max()[0]]))/1000000+0.01])\n",
    "#ax1.set_ylim([(min([y_entry.min()[0],y_exit.min()[0]]))/1000000-0.01, (max([y_entry.max()[0],y_exit.max()[0]]))/1000000+0.01])\n",
    "# Add rectangle\n",
    "for i in range(len(x_entry)):\n",
    "    if(i==0):\n",
    "        #cl='red'\n",
    "        cl=\"black\"\n",
    "        #ax1.plot(((x_exit.values)[i][0])/1000000,((y_exit.values)[i][0])/1000000,'s')\n",
    "    elif(i==len(x_entry)-2):\n",
    "        ax1.plot(((x_entry.values)[i][0])/1000000,((y_entry.values)[i][0])/1000000,'s')\n",
    "        cl='green'\n",
    "    else:\n",
    "        cl=\"black\"\n",
    "    #ax1.arrow(((x_entry.values)[i][0])/1000000,  ((y_entry.values)[i][0])/1000000,((x_exit.values)[i][0])/1000000, ((y_exit.values)[i][0])/1000000,head_width=0.0001, head_length=0.001, fc='k', ec='k')\n",
    "    ax1.plot([((x_entry.values)[i][0])/1000000, ((x_exit.values)[i][0])/1000000], [((y_entry.values)[i][0])/1000000, ((y_exit.values)[i][0])/1000000], color=cl, lw=2, linestyle='--')\n",
    "\n",
    "ax1.add_patch(\n",
    "patches.Rectangle(\n",
    "(3.7509015068, -19.2089056133), # (x,y)\n",
    "# (d.min()[0], d.min()[1]), # (x,y)\n",
    "0.02, # width\n",
    "-0.06, # height\n",
    "# You can add rotation as well with 'angle'\n",
    "alpha=0.3, facecolor=\"green\", edgecolor=\"black\", linewidth=3, linestyle='solid'\n",
    ")\n",
    ")\n",
    "fig1.suptitle(\"Trajectoire n°0029d917352b7668953513cfc3b4478f_19\")\n",
    "plt.savefig('trajectoire2.png', bbox_inches='tight')\n"
   ]
  },
  {
   "cell_type": "code",
   "execution_count": 22,
   "metadata": {},
   "outputs": [
    {
     "data": {
      "text/plain": [
       "3.749042301223842"
      ]
     },
     "execution_count": 22,
     "metadata": {},
     "output_type": "execute_result"
    }
   ],
   "source": [
    "d.min()[0]"
   ]
  },
  {
   "cell_type": "code",
   "execution_count": 162,
   "metadata": {},
   "outputs": [
    {
     "data": {
      "image/png": "[encoded data removed]",
      "text/plain": [
       "<Figure size 432x288 with 1 Axes>"
      ]
     },
     "metadata": {
      "needs_background": "light"
     },
     "output_type": "display_data"
    }
   ],
   "source": [
    "import seaborn as sns;\n",
    "import matplotlib.pyplot as plt\n",
    "ax = sns.scatterplot(x=\"x_entry\", y=\"y_entry\", data=d)"
   ]
  },
  {
   "cell_type": "code",
   "execution_count": 278,
   "metadata": {},
   "outputs": [
    {
     "data": {
      "text/plain": [
       "x_exit    3.749610e+06\n",
       "y_exit   -1.926594e+07\n",
       "Name: 1, dtype: float64"
      ]
     },
     "execution_count": 278,
     "metadata": {},
     "output_type": "execute_result"
    }
   ],
   "source": [
    "exit_coor.iloc[0]"
   ]
  },
  {
   "cell_type": "code",
   "execution_count": null,
   "metadata": {},
   "outputs": [],
   "source": [
    "import matplotlib.pyplot as plt\n",
    "import seaborn as sns\n",
    "import warnings\n",
    "warnings.simplefilter(action='ignore', category=FutureWarning)\n",
    "i=0\n",
    "name = ['Lightgbm','XGBoost','CatBoost']\n",
    "for model in [LGBM,XGB,CatBoost]:\n",
    "    model.fit(X,Y)\n",
    "    feature_imp = pd.DataFrame(sorted(zip(model.feature_importances_,X.columns)), columns=['Value','Feature'])\n",
    "    feature_imp = feature_imp.sort_values(by=\"Value\", ascending=False)\n",
    "    feature_imp = feature_imp.head(20)\n",
    "\n",
    "    plt.figure(figsize=(20, 10))\n",
    "    plt.xscale('log')\n",
    "    sns.barplot(x=\"Value\", y=\"Feature\", data=feature_imp)\n",
    "    try : \n",
    "        plt.title(name[i]+' Features Importances')\n",
    "    except AttributeError:\n",
    "        print(name[i])\n",
    "    plt.tight_layout()\n",
    "    try:\n",
    "        plt.savefig(name[i]+'_log_importances.png')\n",
    "    except AttributeError:\n",
    "        print(name[i])\n",
    "    plt.show()\n",
    "    i+=1"
   ]
  },
  {
   "cell_type": "markdown",
   "metadata": {},
   "source": [
    "# GridSearch\n"
   ]
  },
  {
   "cell_type": "code",
   "execution_count": 11,
   "metadata": {},
   "outputs": [],
   "source": [
    "\n",
    "print(datetime.datetime.now())\n",
    "X = X\n",
    "y = Y.astype(int)\n",
    "param_grid = {\n",
    "    'n_estimators': [2000,6000],\n",
    "    'task_type': ['GPU'],\n",
    "    'eval_metric': ['F1'],\n",
    "    'learning_rate': [0.001,0.01,0.1],\n",
    "    'max_depth': [7,9],\n",
    "    'random_strength' : [1,10],\n",
    "    'scale_pos_weight' : [3,10],\n",
    "    'bagging_temperature' : [0.5,1]\n",
    "}\n",
    "\n",
    "kf = StratifiedKFold(n_splits=5,random_state=1,shuffle=True)\n",
    "model = GridSearchCV(CatBoostClassifier(),param_grid, cv=kf.split(X, y),verbose=3, scoring= 'f1',iid=True)\n",
    "model.fit(X,y)\n",
    "\n",
    "print(model.best_score_)\n",
    "print(model.best_params_)\n",
    "\n",
    "print(datetime.datetime.now())\n",
    "\n",
    "pickle.dump(model,open('CatBoost_tuned_v1','wb'))"
   ]
  },
  {
   "cell_type": "raw",
   "metadata": {},
   "source": [
    "{'bagging_temperature': 0.5,\n",
    " 'eval_metric': 'F1',\n",
    " 'learning_rate': 0.1,\n",
    " 'max_depth': 9,\n",
    " 'n_estimators': 6000,\n",
    " 'random_strength': 10,\n",
    " 'scale_pos_weight': 3,\n",
    " 'task_type': 'GPU'}\n",
    "\n",
    "0.8878846263099277"
   ]
  },
  {
   "cell_type": "markdown",
   "metadata": {},
   "source": [
    "# Mano Mano"
   ]
  },
  {
   "cell_type": "code",
   "execution_count": 9,
   "metadata": {},
   "outputs": [
    {
     "name": "stdout",
     "output_type": "stream",
     "text": [
      "K-Fold :  1\n",
      "f1_score 0.8904964539007093\n",
      "elapsed :  0:00:45.066961\n",
      "K-Fold :  2\n",
      "f1_score 0.8861046223543568\n",
      "elapsed :  0:00:45.678135\n",
      "K-Fold :  3\n",
      "f1_score 0.8901504399659381\n",
      "elapsed :  0:00:45.719829\n",
      "K-Fold :  4\n",
      "f1_score 0.8912676056338028\n",
      "elapsed :  0:00:45.219809\n",
      "K-Fold :  5\n",
      "f1_score 0.8897581792318635\n",
      "elapsed :  0:00:44.384237\n",
      "best score :  0.8895554602173341\n",
      "best iterations :  1921\n"
     ]
    }
   ],
   "source": [
    "X = X\n",
    "y = Y.astype(int)\n",
    "\n",
    "scores = []\n",
    "iterations = []\n",
    "skf = StratifiedKFold(n_splits=5,random_state=1)\n",
    "kfold=1\n",
    "for train_index, test_index in skf.split(X, y):\n",
    "    print('K-Fold : ',kfold)\n",
    "    kfold+=1\n",
    "    t1 = datetime.datetime.now()\n",
    "    X_train, X_test = X.iloc[train_index], X.iloc[test_index]\n",
    "    y_train, y_test = y.iloc[train_index], y.iloc[test_index]\n",
    "    train_dataset = Pool(data=X_train,\n",
    "                     label=y_train)\n",
    "\n",
    "    eval_dataset = Pool(data=X_test,\n",
    "                        label=y_test)\n",
    "\n",
    "    clf = CatBoostClassifier(n_estimators=2500,max_depth=6,task_type = \"GPU\",random_strength=7,bagging_temperature=0.7,eval_metric='F1',silent=True)\n",
    "    clf.fit(train_dataset, use_best_model=True,eval_set=eval_dataset)\n",
    "    \n",
    "    pred = clf.predict(X_test)\n",
    "    score = f1_score(y_test.values.astype(int),pred.astype(int))\n",
    "    scores.append(score)\n",
    "    iterations.append(clf.best_iteration_)\n",
    "    print('f1_score',score)\n",
    "    print('elapsed : ',(datetime.datetime.now()-t1))\n",
    "\n",
    "print('best score : ',np.mean(scores))\n",
    "print('best iterations : ',max(iterations))"
   ]
  },
  {
   "cell_type": "raw",
   "metadata": {},
   "source": [
    "CatBoostClassifier(n_estimators=5000,max_depth=6,task_type = \"GPU\",eval_metric='F1',silent=True)\n",
    "\n",
    "best score :  0.8894370345367351\n",
    "best iterations :  1717"
   ]
  },
  {
   "cell_type": "raw",
   "metadata": {},
   "source": [
    "CatBoostClassifier(n_estimators=8000,max_depth=8,task_type = \"GPU\",eval_metric='F1',silent=True)\n",
    "\n",
    "best score :  0.8892625913088601\n",
    "best iterations :  891"
   ]
  },
  {
   "cell_type": "raw",
   "metadata": {},
   "source": [
    "CatBoostClassifier(n_estimators=5000,max_depth=9,task_type = \"GPU\",eval_metric='F1',silent=True)\n",
    "\n",
    "best score :  0.8887070199628674\n",
    "best iterations :  738"
   ]
  },
  {
   "cell_type": "raw",
   "metadata": {},
   "source": [
    "CatBoostClassifier(n_estimators=4500,max_depth=5,task_type = \"GPU\",eval_metric='F1',silent=True)\n",
    "\n",
    "best score :  0.8891809300957598\n",
    "best iterations :  3843"
   ]
  },
  {
   "cell_type": "raw",
   "metadata": {},
   "source": [
    "CatBoostClassifier(n_estimators=4500,max_depth=7,task_type = \"GPU\",eval_metric='F1',silent=True)\n",
    "\n",
    "best score :  0.8891432761933\n",
    "best iterations :  2709"
   ]
  },
  {
   "cell_type": "raw",
   "metadata": {},
   "source": [
    "CatBoostClassifier(n_estimators=3000,max_depth=6,task_type = \"GPU\",random_strength=5,eval_metric='F1',silent=True)\n",
    "\n",
    "best score :  0.8897468345967287\n",
    "best iterations :  2043"
   ]
  },
  {
   "cell_type": "raw",
   "metadata": {},
   "source": [
    "CatBoostClassifier(n_estimators=3000,max_depth=6,task_type = \"GPU\",random_strength=3,eval_metric='F1',silent=True)\n",
    "\n",
    "best score :  0.8891745984935471\n",
    "best iterations :  2996"
   ]
  },
  {
   "cell_type": "raw",
   "metadata": {},
   "source": [
    "CatBoostClassifier(n_estimators=3000,max_depth=6,task_type = \"GPU\",random_strength=8,eval_metric='F1',silent=True)\n",
    "\n",
    "best score :  0.8890100270366192\n",
    "best iterations :  2892"
   ]
  },
  {
   "cell_type": "raw",
   "metadata": {},
   "source": [
    "CatBoostClassifier(n_estimators=3000,max_depth=6,task_type = \"GPU\",random_strength=9,eval_metric='F1',silent=True)\n",
    "\n",
    "best score :  0.8893055326200827\n",
    "best iterations :  2663"
   ]
  },
  {
   "cell_type": "code",
   "execution_count": null,
   "metadata": {},
   "outputs": [],
   "source": [
    "CatBoostClassifier(n_estimators=3000,max_depth=6,task_type = \"GPU\",random_strength=7,bagging_temperature=0.7,eval_metric='F1',silent=True)\n",
    "    \n",
    "best score :  0.8895554602173341\n",
    "best iterations :  1921"
   ]
  }
 ],
 "metadata": {
  "kernelspec": {
   "display_name": "Python 3",
   "language": "python",
   "name": "python3"
  },
  "language_info": {
   "codemirror_mode": {
    "name": "ipython",
    "version": 3
   },
   "file_extension": ".py",
   "mimetype": "text/x-python",
   "name": "python",
   "nbconvert_exporter": "python",
   "pygments_lexer": "ipython3",
   "version": "3.6.6"
  }
 },
 "nbformat": 4,
 "nbformat_minor": 2
}
