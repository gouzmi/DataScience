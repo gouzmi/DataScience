{
 "cells": [
  {
   "cell_type": "code",
   "execution_count": 121,
   "metadata": {},
   "outputs": [
    {
     "name": "stderr",
     "output_type": "stream",
     "text": [
      "C:\\Users\\gouzm\\Anaconda3\\lib\\site-packages\\ipykernel_launcher.py:27: SettingWithCopyWarning: \n",
      "A value is trying to be set on a copy of a slice from a DataFrame\n",
      "\n",
      "See the caveats in the documentation: http://pandas.pydata.org/pandas-docs/stable/indexing.html#indexing-view-versus-copy\n",
      "C:\\Users\\gouzm\\Anaconda3\\lib\\site-packages\\ipykernel_launcher.py:28: SettingWithCopyWarning: \n",
      "A value is trying to be set on a copy of a slice from a DataFrame\n",
      "\n",
      "See the caveats in the documentation: http://pandas.pydata.org/pandas-docs/stable/indexing.html#indexing-view-versus-copy\n",
      "C:\\Users\\gouzm\\Anaconda3\\lib\\site-packages\\ipykernel_launcher.py:29: SettingWithCopyWarning: \n",
      "A value is trying to be set on a copy of a slice from a DataFrame\n",
      "\n",
      "See the caveats in the documentation: http://pandas.pydata.org/pandas-docs/stable/indexing.html#indexing-view-versus-copy\n",
      "C:\\Users\\gouzm\\Anaconda3\\lib\\site-packages\\ipykernel_launcher.py:31: SettingWithCopyWarning: \n",
      "A value is trying to be set on a copy of a slice from a DataFrame\n",
      "\n",
      "See the caveats in the documentation: http://pandas.pydata.org/pandas-docs/stable/indexing.html#indexing-view-versus-copy\n",
      "C:\\Users\\gouzm\\Anaconda3\\lib\\site-packages\\ipykernel_launcher.py:32: SettingWithCopyWarning: \n",
      "A value is trying to be set on a copy of a slice from a DataFrame\n",
      "\n",
      "See the caveats in the documentation: http://pandas.pydata.org/pandas-docs/stable/indexing.html#indexing-view-versus-copy\n",
      "C:\\Users\\gouzm\\Anaconda3\\lib\\site-packages\\ipykernel_launcher.py:33: SettingWithCopyWarning: \n",
      "A value is trying to be set on a copy of a slice from a DataFrame\n",
      "\n",
      "See the caveats in the documentation: http://pandas.pydata.org/pandas-docs/stable/indexing.html#indexing-view-versus-copy\n",
      "C:\\Users\\gouzm\\Anaconda3\\lib\\site-packages\\ipykernel_launcher.py:35: SettingWithCopyWarning: \n",
      "A value is trying to be set on a copy of a slice from a DataFrame\n",
      "\n",
      "See the caveats in the documentation: http://pandas.pydata.org/pandas-docs/stable/indexing.html#indexing-view-versus-copy\n",
      "C:\\Users\\gouzm\\Anaconda3\\lib\\site-packages\\ipykernel_launcher.py:36: SettingWithCopyWarning: \n",
      "A value is trying to be set on a copy of a slice from a DataFrame\n",
      "\n",
      "See the caveats in the documentation: http://pandas.pydata.org/pandas-docs/stable/indexing.html#indexing-view-versus-copy\n",
      "C:\\Users\\gouzm\\Anaconda3\\lib\\site-packages\\ipykernel_launcher.py:37: SettingWithCopyWarning: \n",
      "A value is trying to be set on a copy of a slice from a DataFrame\n",
      "\n",
      "See the caveats in the documentation: http://pandas.pydata.org/pandas-docs/stable/indexing.html#indexing-view-versus-copy\n",
      "C:\\Users\\gouzm\\Anaconda3\\lib\\site-packages\\ipykernel_launcher.py:39: SettingWithCopyWarning: \n",
      "A value is trying to be set on a copy of a slice from a DataFrame\n",
      "\n",
      "See the caveats in the documentation: http://pandas.pydata.org/pandas-docs/stable/indexing.html#indexing-view-versus-copy\n",
      "C:\\Users\\gouzm\\Anaconda3\\lib\\site-packages\\ipykernel_launcher.py:40: SettingWithCopyWarning: \n",
      "A value is trying to be set on a copy of a slice from a DataFrame\n",
      "\n",
      "See the caveats in the documentation: http://pandas.pydata.org/pandas-docs/stable/indexing.html#indexing-view-versus-copy\n",
      "C:\\Users\\gouzm\\Anaconda3\\lib\\site-packages\\ipykernel_launcher.py:41: SettingWithCopyWarning: \n",
      "A value is trying to be set on a copy of a slice from a DataFrame\n",
      "\n",
      "See the caveats in the documentation: http://pandas.pydata.org/pandas-docs/stable/indexing.html#indexing-view-versus-copy\n"
     ]
    }
   ],
   "source": [
    "import pandas as pd\n",
    "import numpy as np\n",
    "import math\n",
    "import matplotlib.pyplot as plt\n",
    "import pickle\n",
    "import datetime\n",
    "from xgboost import XGBClassifier\n",
    "from sklearn.model_selection import GridSearchCV\n",
    "from sklearn.model_selection import StratifiedKFold\n",
    "from sklearn.metrics import accuracy_score\n",
    "from sklearn.model_selection import train_test_split\n",
    "\n",
    "train = pd.read_csv('data_train.csv')\n",
    "test = pd.read_csv('data_test.csv')\n",
    "train = train.drop(['Unnamed: 0'],axis=1)\n",
    "test = test.drop(['Unnamed: 0'],axis=1)\n",
    "\n",
    "tr = test.loc[test.x_exit.isnull()]\n",
    "\n",
    "def conv(time_1):   \n",
    "    sec1 = 3600*int(time_1[0:2]) + 60*int(time_1[3:5]) + int(time_1[6:8])                                                                                                                                \n",
    "    return (sec1)\n",
    "\n",
    "# vec_conv =  np.vectorize(conv)\n",
    "# train.time_entry=vec_conv(train.time_entry)\n",
    "# train.time_exit=vec_conv(train.time_exit)\n",
    "\n",
    "#incohérences\n",
    "train['vmean'][(train.time_entry==train.time_exit)] = 0\n",
    "train['vmin'][(train.time_entry==train.time_exit)] = 0\n",
    "train['vmax'][(train.time_entry==train.time_exit)] = 0\n",
    "\n",
    "test['vmean'][(test.time_entry==test.time_exit)] = 0\n",
    "test['vmin'][(test.time_entry==test.time_exit)] = 0\n",
    "test['vmax'][(test.time_entry==test.time_exit)] = 0\n",
    "\n",
    "train['vmax'][(train.x_entry==train.x_exit)&(train.y_entry==train.y_exit)] = 0\n",
    "train['vmin'][(train.x_entry==train.x_exit)&(train.y_entry==train.y_exit)] = 0\n",
    "train['vmean'][(train.x_entry==train.x_exit)&(train.y_entry==train.y_exit)] = 0\n",
    "\n",
    "test['vmax'][(test.x_entry==test.x_exit)&(test.y_entry==test.y_exit)] = 0\n",
    "test['vmin'][(test.x_entry==test.x_exit)&(test.y_entry==test.y_exit)] = 0\n",
    "test['vmean'][(test.x_entry==test.x_exit)&(test.y_entry==test.y_exit)] = 0\n",
    "\n",
    "#outliers\n",
    "train.vmean = train.vmean.loc[(train.vmean<90) & (train.vmean>=0)]\n",
    "train.vmax = train.vmean.loc[(train.vmax<90) & (train.vmax>=0)]\n",
    "train.vmin = train.vmean.loc[(train.vmin<90) & (train.vmin>=0)]\n",
    "\n",
    "#nan by mean\n",
    "train['vmax']=train['vmax'].replace( np.NaN , train['vmax'].mean() )\n",
    "train['vmin']=train['vmin'].replace( np.NaN , train['vmin'].mean() )\n",
    "train['vmean']=train['vmean'].replace( np.NaN , train['vmean'].mean() )\n",
    "\n",
    "test['vmax']=test['vmax'].replace( np.NaN , test['vmax'].mean() )\n",
    "test['vmin']=test['vmin'].replace( np.NaN , test['vmin'].mean() )\n",
    "test['vmean']=test['vmean'].replace( np.NaN , test['vmean'].mean() )\n",
    "\n",
    "# trainTempVmean = train.loc[(train.vmean>0)]\n",
    "# trainTempVmean = trainTempVmean.dropna()\n",
    "# trainTempVmean = trainTempVmean.vmean.mean()\n",
    "\n",
    "# trainTempVmax = train.loc[(train.vmax>0)]\n",
    "# trainTempVmax = trainTempVmax.dropna()\n",
    "# trainTempVmax = trainTempVmax.vmax.mean()\n",
    "\n",
    "# trainTempVmin = train.loc[(train.vmin>0)]\n",
    "# trainTempVmin = trainTempVmin.dropna()\n",
    "# trainTempVmin = trainTempVmin.vmin.mean()\n",
    "\n",
    "# testTempVmean = test.loc[(test.vmean>0)]\n",
    "# testTempVmean = testTempVmean.dropna()\n",
    "# testTempVmean = testTempVmean.vmean.mean()\n",
    "\n",
    "# testTempVmax = test.loc[(test.vmax>0)]\n",
    "# testTempVmax = testTempVmax.dropna()\n",
    "# testTempVmax = testTempVmax.vmax.mean()\n",
    "\n",
    "# testTempVmin = test.loc[(test.vmin>0)]\n",
    "# testTempVmin = testTempVmin.dropna()\n",
    "# testTempVmin = testTempVmin.vmin.mean()\n",
    "\n",
    "# # train['vmax']=train['vmax'].replace( np.NaN , train.vmax.mean())\n",
    "# # train['vmin']=train['vmin'].replace( np.NaN , train.vmin.mean())\n",
    "# # train['vmean']=train['vmean'].replace( np.NaN , train.vmean.mean())\n",
    "# # test['vmax']=test['vmax'].replace( np.NaN , test.vmax.mean())\n",
    "# # test['vmin']=test['vmin'].replace( np.NaN , test.vmin.mean())\n",
    "# # test['vmean']=test['vmean'].replace( np.NaN , test.vmean.mean())\n",
    "\n",
    "# train['vmax']=train['vmax'].replace( np.NaN , trainTempVmax)\n",
    "# train['vmin']=train['vmin'].replace( np.NaN , trainTempVmin)\n",
    "# train['vmean']=train['vmean'].replace( np.NaN , trainTempVmean)\n",
    "# test['vmax']=test['vmax'].replace( np.NaN , testTempVmax)\n",
    "# test['vmin']=test['vmin'].replace( np.NaN , testTempVmin)\n",
    "# test['vmean']=test['vmean'].replace( np.NaN , testTempVmean)\n",
    "\n",
    "vec_conv =  np.vectorize(conv)\n",
    "train.time_entry=vec_conv(train.time_entry)\n",
    "train.time_exit=vec_conv(train.time_exit)\n",
    "\n",
    "test.time_entry=vec_conv(test.time_entry)\n",
    "test.time_exit=vec_conv(test.time_exit)"
   ]
  },
  {
   "cell_type": "code",
   "execution_count": 122,
   "metadata": {},
   "outputs": [
    {
     "name": "stderr",
     "output_type": "stream",
     "text": [
      "C:\\Users\\gouzm\\Anaconda3\\lib\\site-packages\\ipykernel_launcher.py:2: SettingWithCopyWarning: \n",
      "A value is trying to be set on a copy of a slice from a DataFrame\n",
      "\n",
      "See the caveats in the documentation: http://pandas.pydata.org/pandas-docs/stable/indexing.html#indexing-view-versus-copy\n",
      "  \n"
     ]
    }
   ],
   "source": [
    "train['city_center'] = 0\n",
    "train['city_center'][(train.x_exit>=3750901.5068) & (train.x_exit<=3770901.5068)&(train.y_exit>=(-19268905.6133)) & (train.y_exit<=(-19208905.6133))]=1"
   ]
  },
  {
   "cell_type": "code",
   "execution_count": 123,
   "metadata": {},
   "outputs": [],
   "source": [
    "train = train.drop(['trajectory_id'],axis=1)\n",
    "test = test.drop(['trajectory_id'],axis=1)"
   ]
  },
  {
   "cell_type": "code",
   "execution_count": 124,
   "metadata": {},
   "outputs": [],
   "source": [
    "a = train.values\n",
    "c = test.values"
   ]
  },
  {
   "cell_type": "code",
   "execution_count": 125,
   "metadata": {},
   "outputs": [],
   "source": [
    "b=[]\n",
    "i=-1\n",
    "hash = ''\n",
    "for line in a:\n",
    "    if line[0] != hash:\n",
    "        if i>=0:\n",
    "            b[i] = np.concatenate((b[i][:9],b[i][11:]),axis=None)\n",
    "            #enlève x_ et y_ du dernier trajet \n",
    "\n",
    "        hash = line[0]\n",
    "        ref = line[1:-1]\n",
    "        b.append(np.concatenate((line[-1],hash,ref),axis=None))\n",
    "        i=i+1\n",
    "    else:\n",
    "        ref = np.concatenate((line[1:-1],ref), axis=None)\n",
    "        b[i]=np.concatenate((line[-1],hash,ref),axis=None)"
   ]
  },
  {
   "cell_type": "code",
   "execution_count": 126,
   "metadata": {},
   "outputs": [],
   "source": [
    "df_train = pd.DataFrame(b)\n",
    "Y=df_train[0]\n",
    "X = df_train.drop([0,1],axis=1)\n",
    "X=X.fillna(0)"
   ]
  },
  {
   "cell_type": "code",
   "execution_count": 127,
   "metadata": {},
   "outputs": [],
   "source": [
    "b=[]\n",
    "i=-1\n",
    "hash = ''\n",
    "for line in c:\n",
    "    if line[0] != hash:\n",
    "        if i>=0:\n",
    "            b[i] = np.concatenate((b[i][:8],b[i][10:]),axis=None)\n",
    "            #enlève x_ et y_ du dernier trajet dans le test cest NaN mais on doit l'enlever quand même\n",
    "        hash = line[0]\n",
    "        ref = line[1:]\n",
    "        b.append(np.concatenate((hash,ref),axis=None))\n",
    "        i=i+1\n",
    "    else:\n",
    "        ref = np.concatenate((line[1:],ref), axis=None)\n",
    "        b[i]=np.concatenate((hash,ref),axis=None)"
   ]
  },
  {
   "cell_type": "code",
   "execution_count": 128,
   "metadata": {},
   "outputs": [],
   "source": [
    "df_test = pd.DataFrame(b)\n",
    "\n",
    "X_test = df_test.drop([0],axis=1)\n",
    "X_test=X_test.fillna(0)"
   ]
  },
  {
   "cell_type": "code",
   "execution_count": 14,
   "metadata": {},
   "outputs": [
    {
     "name": "stdout",
     "output_type": "stream",
     "text": [
      "\n",
      "1 of kfold 5\n",
      "-------\n",
      "{'eta': 0.2, 'max_depth': 11, 'min_child_weight': 2, 'n_jobs': -1, 'num_boost_round': 70}\n",
      "accuracy_score 0.9401036810502368\n",
      "\n",
      "2 of kfold 5\n",
      "-------\n",
      "{'eta': 0.2, 'max_depth': 8, 'min_child_weight': 2, 'n_jobs': -1, 'num_boost_round': 70}\n",
      "accuracy_score 0.9368216909707977\n",
      "\n",
      "3 of kfold 5\n",
      "-------\n",
      "{'eta': 0.2, 'max_depth': 11, 'min_child_weight': 0.25, 'n_jobs': -1, 'num_boost_round': 70}\n",
      "accuracy_score 0.9372692350725395\n",
      "\n",
      "4 of kfold 5\n",
      "-------\n",
      "{'eta': 0.2, 'max_depth': 11, 'min_child_weight': 0.25, 'n_jobs': -1, 'num_boost_round': 70}\n",
      "accuracy_score 0.9409219752349695\n",
      "\n",
      "5 of kfold 5\n",
      "-------\n",
      "{'eta': 0.2, 'max_depth': 8, 'min_child_weight': 0.5, 'n_jobs': -1, 'num_boost_round': 70}\n",
      "accuracy_score 0.9347307175891392\n",
      "----------\n",
      "57897.20269751549\n"
     ]
    }
   ],
   "source": [
    "import time\n",
    "print(datetime.datetime.now())\n",
    "X = X\n",
    "y = Y\n",
    "param_grid = {\n",
    "    'num_boost_round': [50,70,100],\n",
    "    'eta': [0.2,0.1],\n",
    "    'max_depth': [8,10],\n",
    "    'min_child_weight': [0.25,0.5,1],\n",
    "    'n_jobs':[-1]\n",
    "}\n",
    "\n",
    "i=1\n",
    "kf = StratifiedKFold(n_splits=5,random_state=1,shuffle=True)\n",
    "\n",
    "for train_index,test_index in kf.split(X,y):\n",
    "    print('\\n{} of kfold {}'.format(i,kf.n_splits))\n",
    "    print(datetime.datetime.now())\n",
    "    xtr,xvl = X.loc[train_index],X.loc[test_index]\n",
    "    ytr,yvl = y[train_index],y[test_index]\n",
    "    model = GridSearchCV(XGBClassifier(), param_grid, cv=5, scoring= 'f1',iid=True)\n",
    "    print ('-------')\n",
    "    model.fit(xtr, ytr)\n",
    "    print (model.best_params_)\n",
    "    pred=model.predict(xvl)\n",
    "    print('f1_score',f1_score(yvl,pred))\n",
    "    i+=1\n",
    "    \n",
    "\n",
    "print('----------')\n",
    "print(datetime.datetime.now())"
   ]
  },
  {
   "cell_type": "code",
   "execution_count": 14,
   "metadata": {},
   "outputs": [],
   "source": [
    "#model = pickle.load(open('XGB_best.pickle', 'rb'))\n",
    "pickle.dump(model,open('XGB_best_2','wb'))"
   ]
  },
  {
   "cell_type": "code",
   "execution_count": 17,
   "metadata": {},
   "outputs": [],
   "source": [
    "X_test.columns=X.columns\n",
    "pred = model.best_estimator_.predict(X_test)\n",
    "prediction = pd.DataFrame()"
   ]
  },
  {
   "cell_type": "code",
   "execution_count": 18,
   "metadata": {},
   "outputs": [],
   "source": [
    "trajectory_id = tr['trajectory_id']"
   ]
  },
  {
   "cell_type": "code",
   "execution_count": 19,
   "metadata": {},
   "outputs": [],
   "source": [
    "trajectory_id=trajectory_id.values\n",
    "prediction['id']=trajectory_id\n",
    "prediction['target']=pred"
   ]
  },
  {
   "cell_type": "code",
   "execution_count": 20,
   "metadata": {},
   "outputs": [],
   "source": [
    "prediction.to_csv(\"EY_All_in_one_line_best_04.csv\",index=False)"
   ]
  },
  {
   "cell_type": "raw",
   "metadata": {},
   "source": [
    "# 1ère Version\n",
    "# print(model.best_params_)\n",
    "{'eta': 0.1, 'max_depth': 8, 'min_child_weight': 0.5, 'n_jobs': -1, 'num_boost_round': 100}\n",
    "\n",
    "# 2ème Version\n",
    "# print(model.best_params_)\n",
    "{'eta': 0.2, 'max_depth': 8, 'min_child_weight': 0.5, 'n_jobs': -1, 'num_boost_round': 70}"
   ]
  },
  {
   "cell_type": "code",
   "execution_count": 21,
   "metadata": {},
   "outputs": [
    {
     "name": "stdout",
     "output_type": "stream",
     "text": [
      "{'eta': 0.2, 'max_depth': 8, 'min_child_weight': 0.5, 'n_jobs': -1, 'num_boost_round': 70}\n"
     ]
    }
   ],
   "source": [
    "print(model.best_params_)"
   ]
  },
  {
   "cell_type": "code",
   "execution_count": 29,
   "metadata": {},
   "outputs": [
    {
     "data": {
      "text/plain": [
       "0    24836\n",
       "1     8679\n",
       "Name: target, dtype: int64"
      ]
     },
     "execution_count": 29,
     "metadata": {},
     "output_type": "execute_result"
    }
   ],
   "source": [
    "prediction.target.value_counts()"
   ]
  },
  {
   "cell_type": "code",
   "execution_count": null,
   "metadata": {},
   "outputs": [],
   "source": []
  },
  {
   "cell_type": "code",
   "execution_count": 103,
   "metadata": {},
   "outputs": [
    {
     "data": {
      "text/plain": [
       "1.0471975511965979"
      ]
     },
     "execution_count": 103,
     "metadata": {},
     "output_type": "execute_result"
    }
   ],
   "source": [
    "np.arccos(0.5)"
   ]
  },
  {
   "cell_type": "code",
   "execution_count": 109,
   "metadata": {},
   "outputs": [
    {
     "ename": "ValueError",
     "evalue": "math domain error",
     "output_type": "error",
     "traceback": [
      "\u001b[1;31m---------------------------------------------------------------------------\u001b[0m",
      "\u001b[1;31mValueError\u001b[0m                                Traceback (most recent call last)",
      "\u001b[1;32m<ipython-input-109-79ff1a44d9c6>\u001b[0m in \u001b[0;36m<module>\u001b[1;34m\u001b[0m\n\u001b[1;32m----> 1\u001b[1;33m \u001b[0mmath\u001b[0m\u001b[1;33m.\u001b[0m\u001b[0macos\u001b[0m\u001b[1;33m(\u001b[0m\u001b[1;36m45\u001b[0m\u001b[1;33m)\u001b[0m\u001b[1;33m\u001b[0m\u001b[0m\n\u001b[0m",
      "\u001b[1;31mValueError\u001b[0m: math domain error"
     ]
    }
   ],
   "source": [
    "math.acos(45)"
   ]
  },
  {
   "cell_type": "code",
   "execution_count": 116,
   "metadata": {},
   "outputs": [
    {
     "data": {
      "text/plain": [
       "6.123233995736766e-17"
      ]
     },
     "execution_count": 116,
     "metadata": {},
     "output_type": "execute_result"
    }
   ],
   "source": [
    "from math import *\n",
    "math.cos(pi/2)"
   ]
  },
  {
   "cell_type": "code",
   "execution_count": 117,
   "metadata": {},
   "outputs": [
    {
     "data": {
      "text/plain": [
       "13"
      ]
     },
     "execution_count": 117,
     "metadata": {},
     "output_type": "execute_result"
    }
   ],
   "source": [
    "np.dot([2,3],[5,1])"
   ]
  },
  {
   "cell_type": "code",
   "execution_count": 119,
   "metadata": {},
   "outputs": [
    {
     "data": {
      "text/plain": [
       "3.605551275463989"
      ]
     },
     "execution_count": 119,
     "metadata": {},
     "output_type": "execute_result"
    }
   ],
   "source": [
    "np.linalg.norm([2,3])"
   ]
  },
  {
   "cell_type": "code",
   "execution_count": 152,
   "metadata": {},
   "outputs": [
    {
     "data": {
      "text/plain": [
       "array([5, 0])"
      ]
     },
     "execution_count": 152,
     "metadata": {},
     "output_type": "execute_result"
    }
   ],
   "source": [
    "np.array([5,1])-np.array([0,1])"
   ]
  },
  {
   "cell_type": "code",
   "execution_count": 175,
   "metadata": {},
   "outputs": [],
   "source": [
    "#X[14] X[15] x et y entry\n",
    "#X[16] X[17] x et y exit\n",
    "#(3750901.5068+3770901.5068)/2 x centre\n",
    "# = 3760901.5068\n",
    "#(-19268905.6133+-19208905.6133)/2\n",
    "# = -19238905.6133"
   ]
  },
  {
   "cell_type": "code",
   "execution_count": 209,
   "metadata": {},
   "outputs": [],
   "source": [
    "u = np.array([X[16],X[17]])-np.array([X[14],X[15]])\n",
    "v = np.array([3760901.5068-X[14],-19238905.6133-X[15]])"
   ]
  },
  {
   "cell_type": "code",
   "execution_count": 213,
   "metadata": {},
   "outputs": [
    {
     "ename": "ValueError",
     "evalue": "shapes (2,134063) and (2,134063) not aligned: 134063 (dim 1) != 2 (dim 0)",
     "output_type": "error",
     "traceback": [
      "\u001b[1;31m---------------------------------------------------------------------------\u001b[0m",
      "\u001b[1;31mValueError\u001b[0m                                Traceback (most recent call last)",
      "\u001b[1;32m<ipython-input-213-4ae396e443de>\u001b[0m in \u001b[0;36m<module>\u001b[1;34m\u001b[0m\n\u001b[1;32m----> 1\u001b[1;33m \u001b[0mnp\u001b[0m\u001b[1;33m.\u001b[0m\u001b[0mdot\u001b[0m\u001b[1;33m(\u001b[0m\u001b[1;33m[\u001b[0m\u001b[0mu\u001b[0m\u001b[1;33m[\u001b[0m\u001b[1;36m0\u001b[0m\u001b[1;33m]\u001b[0m\u001b[1;33m,\u001b[0m\u001b[0mu\u001b[0m\u001b[1;33m[\u001b[0m\u001b[1;36m1\u001b[0m\u001b[1;33m]\u001b[0m\u001b[1;33m]\u001b[0m\u001b[1;33m,\u001b[0m\u001b[1;33m[\u001b[0m\u001b[0mv\u001b[0m\u001b[1;33m[\u001b[0m\u001b[1;36m0\u001b[0m\u001b[1;33m]\u001b[0m\u001b[1;33m,\u001b[0m\u001b[0mv\u001b[0m\u001b[1;33m[\u001b[0m\u001b[1;36m1\u001b[0m\u001b[1;33m]\u001b[0m\u001b[1;33m]\u001b[0m\u001b[1;33m)\u001b[0m\u001b[1;33m\u001b[0m\u001b[0m\n\u001b[0m",
      "\u001b[1;31mValueError\u001b[0m: shapes (2,134063) and (2,134063) not aligned: 134063 (dim 1) != 2 (dim 0)"
     ]
    }
   ],
   "source": [
    "np.dot([u[0],u[1]],[v[0],v[1]])"
   ]
  },
  {
   "cell_type": "code",
   "execution_count": 210,
   "metadata": {},
   "outputs": [
    {
     "name": "stdout",
     "output_type": "stream",
     "text": [
      "-14457.062269324437\n",
      "-192843.77322535962\n"
     ]
    }
   ],
   "source": [
    "print(X[16][2]-X[14][2])\n",
    "print(X[17][2]-X[15][2])"
   ]
  },
  {
   "cell_type": "code",
   "execution_count": 187,
   "metadata": {},
   "outputs": [
    {
     "data": {
      "text/html": [
       "<div>\n",
       "<style scoped>\n",
       "    .dataframe tbody tr th:only-of-type {\n",
       "        vertical-align: middle;\n",
       "    }\n",
       "\n",
       "    .dataframe tbody tr th {\n",
       "        vertical-align: top;\n",
       "    }\n",
       "\n",
       "    .dataframe thead th {\n",
       "        text-align: right;\n",
       "    }\n",
       "</style>\n",
       "<table border=\"1\" class=\"dataframe\">\n",
       "  <thead>\n",
       "    <tr style=\"text-align: right;\">\n",
       "      <th></th>\n",
       "      <th>hash</th>\n",
       "      <th>time_entry</th>\n",
       "      <th>time_exit</th>\n",
       "      <th>vmax</th>\n",
       "      <th>vmin</th>\n",
       "      <th>vmean</th>\n",
       "      <th>x_entry</th>\n",
       "      <th>y_entry</th>\n",
       "      <th>x_exit</th>\n",
       "      <th>y_exit</th>\n",
       "      <th>city_center</th>\n",
       "    </tr>\n",
       "  </thead>\n",
       "  <tbody>\n",
       "    <tr>\n",
       "      <th>0</th>\n",
       "      <td>0000a8602cf2def930488dee7cdad104_1</td>\n",
       "      <td>25471</td>\n",
       "      <td>25712</td>\n",
       "      <td>1.034057</td>\n",
       "      <td>1.027016</td>\n",
       "      <td>1.064507</td>\n",
       "      <td>3.751014e+06</td>\n",
       "      <td>-1.909398e+07</td>\n",
       "      <td>3.750326e+06</td>\n",
       "      <td>-1.913634e+07</td>\n",
       "      <td>0</td>\n",
       "    </tr>\n",
       "    <tr>\n",
       "      <th>1</th>\n",
       "      <td>0000a8602cf2def930488dee7cdad104_1</td>\n",
       "      <td>26434</td>\n",
       "      <td>26742</td>\n",
       "      <td>1.034057</td>\n",
       "      <td>1.027016</td>\n",
       "      <td>1.064507</td>\n",
       "      <td>3.743937e+06</td>\n",
       "      <td>-1.932247e+07</td>\n",
       "      <td>3.744975e+06</td>\n",
       "      <td>-1.931966e+07</td>\n",
       "      <td>0</td>\n",
       "    </tr>\n",
       "    <tr>\n",
       "      <th>2</th>\n",
       "      <td>0000a8602cf2def930488dee7cdad104_1</td>\n",
       "      <td>28412</td>\n",
       "      <td>29005</td>\n",
       "      <td>1.034057</td>\n",
       "      <td>1.027016</td>\n",
       "      <td>1.064507</td>\n",
       "      <td>3.744868e+06</td>\n",
       "      <td>-1.929356e+07</td>\n",
       "      <td>3.744816e+06</td>\n",
       "      <td>-1.929284e+07</td>\n",
       "      <td>0</td>\n",
       "    </tr>\n",
       "    <tr>\n",
       "      <th>3</th>\n",
       "      <td>0000a8602cf2def930488dee7cdad104_1</td>\n",
       "      <td>29870</td>\n",
       "      <td>31043</td>\n",
       "      <td>1.034057</td>\n",
       "      <td>1.027016</td>\n",
       "      <td>1.064507</td>\n",
       "      <td>3.744880e+06</td>\n",
       "      <td>-1.929229e+07</td>\n",
       "      <td>3.744809e+06</td>\n",
       "      <td>-1.929049e+07</td>\n",
       "      <td>0</td>\n",
       "    </tr>\n",
       "    <tr>\n",
       "      <th>4</th>\n",
       "      <td>0000a8602cf2def930488dee7cdad104_1</td>\n",
       "      <td>52689</td>\n",
       "      <td>52689</td>\n",
       "      <td>0.000000</td>\n",
       "      <td>0.000000</td>\n",
       "      <td>0.000000</td>\n",
       "      <td>3.744909e+06</td>\n",
       "      <td>-1.928558e+07</td>\n",
       "      <td>3.744909e+06</td>\n",
       "      <td>-1.928558e+07</td>\n",
       "      <td>0</td>\n",
       "    </tr>\n",
       "    <tr>\n",
       "      <th>5</th>\n",
       "      <td>0000a8602cf2def930488dee7cdad104_1</td>\n",
       "      <td>54151</td>\n",
       "      <td>55113</td>\n",
       "      <td>1.034057</td>\n",
       "      <td>1.027016</td>\n",
       "      <td>1.064507</td>\n",
       "      <td>3.744945e+06</td>\n",
       "      <td>-1.928183e+07</td>\n",
       "      <td>3.744785e+06</td>\n",
       "      <td>-1.928148e+07</td>\n",
       "      <td>0</td>\n",
       "    </tr>\n",
       "    <tr>\n",
       "      <th>6</th>\n",
       "      <td>0000cf177130469eeac79f67b6bcf3df_9</td>\n",
       "      <td>52163</td>\n",
       "      <td>52163</td>\n",
       "      <td>0.000000</td>\n",
       "      <td>0.000000</td>\n",
       "      <td>0.000000</td>\n",
       "      <td>3.749450e+06</td>\n",
       "      <td>-1.926506e+07</td>\n",
       "      <td>3.749450e+06</td>\n",
       "      <td>-1.926506e+07</td>\n",
       "      <td>0</td>\n",
       "    </tr>\n",
       "    <tr>\n",
       "      <th>7</th>\n",
       "      <td>0000cf177130469eeac79f67b6bcf3df_9</td>\n",
       "      <td>52789</td>\n",
       "      <td>52789</td>\n",
       "      <td>0.000000</td>\n",
       "      <td>0.000000</td>\n",
       "      <td>0.000000</td>\n",
       "      <td>3.749090e+06</td>\n",
       "      <td>-1.926726e+07</td>\n",
       "      <td>3.749090e+06</td>\n",
       "      <td>-1.926726e+07</td>\n",
       "      <td>0</td>\n",
       "    </tr>\n",
       "    <tr>\n",
       "      <th>8</th>\n",
       "      <td>0000cf177130469eeac79f67b6bcf3df_9</td>\n",
       "      <td>53414</td>\n",
       "      <td>53414</td>\n",
       "      <td>0.000000</td>\n",
       "      <td>0.000000</td>\n",
       "      <td>0.000000</td>\n",
       "      <td>3.749042e+06</td>\n",
       "      <td>-1.926632e+07</td>\n",
       "      <td>3.749042e+06</td>\n",
       "      <td>-1.926632e+07</td>\n",
       "      <td>0</td>\n",
       "    </tr>\n",
       "    <tr>\n",
       "      <th>9</th>\n",
       "      <td>0000cf177130469eeac79f67b6bcf3df_9</td>\n",
       "      <td>54032</td>\n",
       "      <td>55788</td>\n",
       "      <td>1.149404</td>\n",
       "      <td>1.149404</td>\n",
       "      <td>1.149404</td>\n",
       "      <td>3.749088e+06</td>\n",
       "      <td>-1.926605e+07</td>\n",
       "      <td>3.749610e+06</td>\n",
       "      <td>-1.926594e+07</td>\n",
       "      <td>0</td>\n",
       "    </tr>\n",
       "    <tr>\n",
       "      <th>10</th>\n",
       "      <td>0001f97b99a80f18f62e2d44e54ef33d_3</td>\n",
       "      <td>41826</td>\n",
       "      <td>42728</td>\n",
       "      <td>32.196255</td>\n",
       "      <td>32.196255</td>\n",
       "      <td>32.196255</td>\n",
       "      <td>3.771461e+06</td>\n",
       "      <td>-1.910413e+07</td>\n",
       "      <td>3.757004e+06</td>\n",
       "      <td>-1.929698e+07</td>\n",
       "      <td>0</td>\n",
       "    </tr>\n",
       "    <tr>\n",
       "      <th>11</th>\n",
       "      <td>0001f97b99a80f18f62e2d44e54ef33d_3</td>\n",
       "      <td>52475</td>\n",
       "      <td>55191</td>\n",
       "      <td>30.167742</td>\n",
       "      <td>30.167742</td>\n",
       "      <td>30.167742</td>\n",
       "      <td>3.758738e+06</td>\n",
       "      <td>-1.937594e+07</td>\n",
       "      <td>3.769687e+06</td>\n",
       "      <td>-1.914258e+07</td>\n",
       "      <td>0</td>\n",
       "    </tr>\n",
       "    <tr>\n",
       "      <th>12</th>\n",
       "      <td>0002124248b0ca510dea42824723ccac_31</td>\n",
       "      <td>35768</td>\n",
       "      <td>35768</td>\n",
       "      <td>0.000000</td>\n",
       "      <td>0.000000</td>\n",
       "      <td>0.000000</td>\n",
       "      <td>3.765544e+06</td>\n",
       "      <td>-1.917227e+07</td>\n",
       "      <td>3.765544e+06</td>\n",
       "      <td>-1.917227e+07</td>\n",
       "      <td>0</td>\n",
       "    </tr>\n",
       "    <tr>\n",
       "      <th>13</th>\n",
       "      <td>0002124248b0ca510dea42824723ccac_31</td>\n",
       "      <td>37020</td>\n",
       "      <td>37020</td>\n",
       "      <td>0.000000</td>\n",
       "      <td>0.000000</td>\n",
       "      <td>0.000000</td>\n",
       "      <td>3.766338e+06</td>\n",
       "      <td>-1.917967e+07</td>\n",
       "      <td>3.766338e+06</td>\n",
       "      <td>-1.917967e+07</td>\n",
       "      <td>0</td>\n",
       "    </tr>\n",
       "    <tr>\n",
       "      <th>14</th>\n",
       "      <td>0002124248b0ca510dea42824723ccac_31</td>\n",
       "      <td>45513</td>\n",
       "      <td>45513</td>\n",
       "      <td>0.000000</td>\n",
       "      <td>0.000000</td>\n",
       "      <td>0.000000</td>\n",
       "      <td>3.767863e+06</td>\n",
       "      <td>-1.917851e+07</td>\n",
       "      <td>3.767863e+06</td>\n",
       "      <td>-1.917851e+07</td>\n",
       "      <td>0</td>\n",
       "    </tr>\n",
       "  </tbody>\n",
       "</table>\n",
       "</div>"
      ],
      "text/plain": [
       "                                   hash  time_entry  time_exit       vmax  \\\n",
       "0    0000a8602cf2def930488dee7cdad104_1       25471      25712   1.034057   \n",
       "1    0000a8602cf2def930488dee7cdad104_1       26434      26742   1.034057   \n",
       "2    0000a8602cf2def930488dee7cdad104_1       28412      29005   1.034057   \n",
       "3    0000a8602cf2def930488dee7cdad104_1       29870      31043   1.034057   \n",
       "4    0000a8602cf2def930488dee7cdad104_1       52689      52689   0.000000   \n",
       "5    0000a8602cf2def930488dee7cdad104_1       54151      55113   1.034057   \n",
       "6    0000cf177130469eeac79f67b6bcf3df_9       52163      52163   0.000000   \n",
       "7    0000cf177130469eeac79f67b6bcf3df_9       52789      52789   0.000000   \n",
       "8    0000cf177130469eeac79f67b6bcf3df_9       53414      53414   0.000000   \n",
       "9    0000cf177130469eeac79f67b6bcf3df_9       54032      55788   1.149404   \n",
       "10   0001f97b99a80f18f62e2d44e54ef33d_3       41826      42728  32.196255   \n",
       "11   0001f97b99a80f18f62e2d44e54ef33d_3       52475      55191  30.167742   \n",
       "12  0002124248b0ca510dea42824723ccac_31       35768      35768   0.000000   \n",
       "13  0002124248b0ca510dea42824723ccac_31       37020      37020   0.000000   \n",
       "14  0002124248b0ca510dea42824723ccac_31       45513      45513   0.000000   \n",
       "\n",
       "         vmin      vmean       x_entry       y_entry        x_exit  \\\n",
       "0    1.027016   1.064507  3.751014e+06 -1.909398e+07  3.750326e+06   \n",
       "1    1.027016   1.064507  3.743937e+06 -1.932247e+07  3.744975e+06   \n",
       "2    1.027016   1.064507  3.744868e+06 -1.929356e+07  3.744816e+06   \n",
       "3    1.027016   1.064507  3.744880e+06 -1.929229e+07  3.744809e+06   \n",
       "4    0.000000   0.000000  3.744909e+06 -1.928558e+07  3.744909e+06   \n",
       "5    1.027016   1.064507  3.744945e+06 -1.928183e+07  3.744785e+06   \n",
       "6    0.000000   0.000000  3.749450e+06 -1.926506e+07  3.749450e+06   \n",
       "7    0.000000   0.000000  3.749090e+06 -1.926726e+07  3.749090e+06   \n",
       "8    0.000000   0.000000  3.749042e+06 -1.926632e+07  3.749042e+06   \n",
       "9    1.149404   1.149404  3.749088e+06 -1.926605e+07  3.749610e+06   \n",
       "10  32.196255  32.196255  3.771461e+06 -1.910413e+07  3.757004e+06   \n",
       "11  30.167742  30.167742  3.758738e+06 -1.937594e+07  3.769687e+06   \n",
       "12   0.000000   0.000000  3.765544e+06 -1.917227e+07  3.765544e+06   \n",
       "13   0.000000   0.000000  3.766338e+06 -1.917967e+07  3.766338e+06   \n",
       "14   0.000000   0.000000  3.767863e+06 -1.917851e+07  3.767863e+06   \n",
       "\n",
       "          y_exit  city_center  \n",
       "0  -1.913634e+07            0  \n",
       "1  -1.931966e+07            0  \n",
       "2  -1.929284e+07            0  \n",
       "3  -1.929049e+07            0  \n",
       "4  -1.928558e+07            0  \n",
       "5  -1.928148e+07            0  \n",
       "6  -1.926506e+07            0  \n",
       "7  -1.926726e+07            0  \n",
       "8  -1.926632e+07            0  \n",
       "9  -1.926594e+07            0  \n",
       "10 -1.929698e+07            0  \n",
       "11 -1.914258e+07            0  \n",
       "12 -1.917227e+07            0  \n",
       "13 -1.917967e+07            0  \n",
       "14 -1.917851e+07            0  "
      ]
     },
     "execution_count": 187,
     "metadata": {},
     "output_type": "execute_result"
    }
   ],
   "source": [
    "train.head(15)"
   ]
  },
  {
   "cell_type": "code",
   "execution_count": null,
   "metadata": {},
   "outputs": [],
   "source": []
  }
 ],
 "metadata": {
  "kernelspec": {
   "display_name": "Python 3",
   "language": "python",
   "name": "python3"
  },
  "language_info": {
   "codemirror_mode": {
    "name": "ipython",
    "version": 3
   },
   "file_extension": ".py",
   "mimetype": "text/x-python",
   "name": "python",
   "nbconvert_exporter": "python",
   "pygments_lexer": "ipython3",
   "version": "3.6.6"
  }
 },
 "nbformat": 4,
 "nbformat_minor": 2
}
